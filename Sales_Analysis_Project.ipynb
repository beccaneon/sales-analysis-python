{
 "cells": [
  {
   "cell_type": "markdown",
   "id": "91744659",
   "metadata": {},
   "source": [
    "# Sales Analysis — Course-End Project\n",
    "\n",
    "**Overview:** This notebook follows the project brief for AAL's sales analysis. Fill `Sales.csv` in the same folder as this notebook and run the cells in order. The notebook is organized step-by-step to match the assignment."
   ]
  },
  {
   "cell_type": "markdown",
   "id": "312cbb24",
   "metadata": {},
   "source": [
    "## 1) Prepare Data for Analysis\n",
    "- Import libraries\n",
    "- Read `Sales.csv` into `df`\n",
    "- Print shape, head, missing values\n",
    "\n",
    "**Assumption:** `Sales.csv` is UTF-8 and contains at least columns like `Date`, `Unit`, `Sales`, `State`, `Category` (if available). If column names differ, update the code accordingly."
   ]
  },
  {
   "cell_type": "code",
   "execution_count": null,
   "id": "a1b66855",
   "metadata": {},
   "outputs": [],
   "source": [
    "# 1) Prepare Data for Analysis\n",
    "import pandas as pd\n",
    "import numpy as np\n",
    "import matplotlib.pyplot as plt\n",
    "from datetime import datetime\n",
    "from sklearn.preprocessing import MinMaxScaler\n",
    "\n",
    "# Settings for nicer plots\n",
    "plt.rcParams['figure.figsize'] = (12,5)\n",
    "plt.rcParams['axes.grid'] = True\n",
    "\n",
    "# Read CSV\n",
    "csv_path = \"Sales.csv\"   # put Sales.csv in the same directory as this notebook\n",
    "df = pd.read_csv(csv_path, parse_dates=['Date'], dayfirst=False, infer_datetime_format=True)\n",
    "\n",
    "# Basic checks\n",
    "print(\"DataFrame shape:\", df.shape)\n",
    "display(df.head())\n",
    "print(\"\\nMissing values per column:\")\n",
    "print(df.isna().sum())\n",
    "\n",
    "# Quick dtype check\n",
    "print(\"\\nData types:\")\n",
    "print(df.dtypes)"
   ]
  },
  {
   "cell_type": "markdown",
   "id": "8c3106aa",
   "metadata": {},
   "source": [
    "## 2) Normalize Data for Analysis\n",
    "Normalize `Unit` and `Sales` using MinMax scaling to range [0,1]. Create `df_dataonly` and `normalize_data` as requested."
   ]
  },
  {
   "cell_type": "code",
   "execution_count": null,
   "id": "2ac90208",
   "metadata": {},
   "outputs": [],
   "source": [
    "# 2) Normalize Unit and Sales columns\n",
    "# Ensure columns exist\n",
    "for col in ['Unit','Sales']:\n",
    "    if col not in df.columns:\n",
    "        raise KeyError(f\"Required column '{col}' not found in dataframe. Available columns: {list(df.columns)}\")\n",
    "\n",
    "df_dataonly = df[['Unit','Sales']].copy()\n",
    "\n",
    "scaler = MinMaxScaler()\n",
    "normalize_data = scaler.fit_transform(df_dataonly)  # ndarray with 2 columns\n",
    "\n",
    "# Convert back to DataFrame for convenience\n",
    "df_normalized = pd.DataFrame(normalize_data, columns=['Unit_norm','Sales_norm'])\n",
    "print(\"normalize_data shape:\", normalize_data.shape)\n",
    "print(\"Min and max of each normalized column:\")\n",
    "print(df_normalized.agg(['min','max']))\n",
    "\n",
    "# attach normalized columns to original df (optional)\n",
    "df[['Unit_norm','Sales_norm']] = df_normalized[['Unit_norm','Sales_norm']]\n",
    "display(df.head())"
   ]
  },
  {
   "cell_type": "markdown",
   "id": "68f1a8f9",
   "metadata": {},
   "source": [
    "## 3) Visualize Overall Trends\n",
    "Plot daily aggregated Unit and Sales over time (Date vs Unit, Date vs Sales)."
   ]
  },
  {
   "cell_type": "code",
   "execution_count": null,
   "id": "71a5d220",
   "metadata": {},
   "outputs": [],
   "source": [
    "# 3) Visualize overall trends (daily sum)\n",
    "# Ensure Date is datetime\n",
    "df['Date'] = pd.to_datetime(df['Date'])\n",
    "\n",
    "daily = df.groupby(df['Date'].dt.date).agg({'Unit':'sum','Sales':'sum'}).reset_index()\n",
    "daily['Date'] = pd.to_datetime(daily['Date'])\n",
    "\n",
    "# Plot Unit\n",
    "plt.figure()\n",
    "plt.plot(daily['Date'], daily['Unit'], marker='.', linewidth=1)\n",
    "plt.title('Daily Units Sold (sum per day)')\n",
    "plt.xlabel('Date')\n",
    "plt.ylabel('Units Sold')\n",
    "plt.tight_layout()\n",
    "\n",
    "# Plot Sales\n",
    "plt.figure()\n",
    "plt.plot(daily['Date'], daily['Sales'], marker='.', linewidth=1)\n",
    "plt.title('Daily Sales Revenue (sum per day)')\n",
    "plt.xlabel('Date')\n",
    "plt.ylabel('Sales Revenue')\n",
    "plt.tight_layout()\n",
    "\n",
    "# Show last few rows of aggregated daily\n",
    "display(daily.tail())"
   ]
  },
  {
   "cell_type": "markdown",
   "id": "5f9ceafd",
   "metadata": {},
   "source": [
    "## 4) Analyze Monthly Data\n",
    "Chunk quarterly data into monthly slices (example: October, November, December). Adjust date ranges based on dataset. The example below assumes dates in 2025-10-01 to 2025-12-31 or similar."
   ]
  },
  {
   "cell_type": "code",
   "execution_count": null,
   "id": "b0042fef",
   "metadata": {},
   "outputs": [],
   "source": [
    "# 4) Chunk into monthly data\n",
    "# Example: determine min and max dates then create monthly ranges automatically\n",
    "min_date = df['Date'].min()\n",
    "max_date = df['Date'].max()\n",
    "print(\"Date range in dataset:\", min_date.date(), \"to\", max_date.date())\n",
    "\n",
    "# Create month keys and monthly DataFrames in a dict\n",
    "df['YearMonth'] = df['Date'].dt.to_period('M')\n",
    "months = sorted(df['YearMonth'].unique())\n",
    "print(\"Detected Year-Month periods:\", months)\n",
    "\n",
    "monthly_dfs = {str(m): df[df['YearMonth']==m].copy() for m in months}\n",
    "\n",
    "# Example: show describe for each month\n",
    "for k,v in monthly_dfs.items():\n",
    "    print(\"\\n---\", k, \"---\")\n",
    "    display(v.describe(include='all'))"
   ]
  },
  {
   "cell_type": "markdown",
   "id": "e07b655d",
   "metadata": {},
   "source": [
    "## 5) Describe Data\n",
    "Use `describe()` on overall and per-month datasets (done in previous cell)."
   ]
  },
  {
   "cell_type": "markdown",
   "id": "889a6029",
   "metadata": {},
   "source": [
    "## 6) Analyze Unit and Sales Distributions\n",
    "Boxplots for Unit and Sales per month."
   ]
  },
  {
   "cell_type": "code",
   "execution_count": null,
   "id": "8cb075ae",
   "metadata": {},
   "outputs": [],
   "source": [
    "# 6) Boxplots: Units and Sales per month\n",
    "import matplotlib.dates as mdates\n",
    "\n",
    "months_list = list(monthly_dfs.keys())\n",
    "units_by_month = [monthly_dfs[m]['Unit'].dropna() for m in months_list]\n",
    "sales_by_month = [monthly_dfs[m]['Sales'].dropna() for m in months_list]\n",
    "\n",
    "# Boxplot Units\n",
    "plt.figure(figsize=(10,5))\n",
    "plt.boxplot(units_by_month, labels=months_list, showmeans=True)\n",
    "plt.title('Units sold — distribution per month')\n",
    "plt.xlabel('Month')\n",
    "plt.ylabel('Units')\n",
    "plt.tight_layout()\n",
    "\n",
    "# Boxplot Sales\n",
    "plt.figure(figsize=(10,5))\n",
    "plt.boxplot(sales_by_month, labels=months_list, showmeans=True)\n",
    "plt.title('Sales Revenue — distribution per month')\n",
    "plt.xlabel('Month')\n",
    "plt.ylabel('Sales Revenue')\n",
    "plt.tight_layout()"
   ]
  },
  {
   "cell_type": "markdown",
   "id": "60616729",
   "metadata": {},
   "source": [
    "## 7) Monthly Plots and Analysis\n",
    "Plot Units and Sales for each month and a consolidated 3-month plot."
   ]
  },
  {
   "cell_type": "code",
   "execution_count": null,
   "id": "972a8695",
   "metadata": {},
   "outputs": [],
   "source": [
    "# 7) Monthly plots\n",
    "for m in months_list:\n",
    "    d = monthly_dfs[m].groupby(monthly_dfs[m]['Date'].dt.date).agg({'Unit':'sum','Sales':'sum'}).reset_index()\n",
    "    d['Date'] = pd.to_datetime(d['Date'])\n",
    "    plt.figure()\n",
    "    plt.plot(d['Date'], d['Unit'], marker='o', label='Units')\n",
    "    plt.plot(d['Date'], d['Sales'], marker='x', label='Sales')\n",
    "    plt.title(f'Units and Sales over days — {m}')\n",
    "    plt.xlabel('Date')\n",
    "    plt.legend()\n",
    "    plt.tight_layout()\n",
    "\n",
    "# Consolidated 3-month sums (if exactly 3 months present)\n",
    "if len(months_list) <= 6:  # won't create overly busy plot\n",
    "    plt.figure()\n",
    "    for m in months_list:\n",
    "        d = monthly_dfs[m].groupby(monthly_dfs[m]['Date'].dt.date).agg({'Sales':'sum'}).reset_index()\n",
    "        d['Date'] = pd.to_datetime(d['Date'])\n",
    "        plt.plot(d['Date'], d['Sales'], marker='.', label=str(m))\n",
    "    plt.title('Consolidated monthly Sales (daily lines)')\n",
    "    plt.xlabel('Date')\n",
    "    plt.legend()\n",
    "    plt.tight_layout()"
   ]
  },
  {
   "cell_type": "markdown",
   "id": "aea25a2d",
   "metadata": {},
   "source": [
    "## 8) Comprehensive Snapshot\n",
    "Create summary tables: totals per month, average order value, units per order (if OrderID exists)."
   ]
  },
  {
   "cell_type": "code",
   "execution_count": null,
   "id": "9df3495f",
   "metadata": {},
   "outputs": [],
   "source": [
    "# 8) Snapshot summaries\n",
    "# Totals per month\n",
    "summary_month = df.groupby(df['YearMonth']).agg(Total_Units=('Unit','sum'), Total_Sales=('Sales','sum'), Avg_Unit=('Unit','mean'), Avg_Sales=('Sales','mean')).reset_index()\n",
    "display(summary_month)\n",
    "\n",
    "# If OrderID exists, compute Units per Order and Sales per Order\n",
    "if 'OrderID' in df.columns:\n",
    "    order_summary = df.groupby('OrderID').agg(Units_per_order=('Unit','sum'), Sales_per_order=('Sales','sum')).describe()\n",
    "    print(\"\\nOrder-level summary:\")\n",
    "    display(order_summary)\n",
    "else:\n",
    "    print(\"\\nNo 'OrderID' column found — skipping order-level metrics.\")"
   ]
  },
  {
   "cell_type": "markdown",
   "id": "60ffc88a",
   "metadata": {},
   "source": [
    "## 9) Statewise Sales\n",
    "Aggregate sales and units by State and visualize top states."
   ]
  },
  {
   "cell_type": "code",
   "execution_count": null,
   "id": "e94033df",
   "metadata": {},
   "outputs": [],
   "source": [
    "# 9) Statewise analysis\n",
    "if 'State' in df.columns:\n",
    "    state_summary = df.groupby('State').agg(Total_Units=('Unit','sum'), Total_Sales=('Sales','sum')).reset_index()\n",
    "    state_summary = state_summary.sort_values('Total_Sales', ascending=False)\n",
    "    display(state_summary.head(15))\n",
    "    \n",
    "    # Bar plot top 10 states by sales\n",
    "    top10 = state_summary.head(10)\n",
    "    plt.figure(figsize=(10,5))\n",
    "    plt.bar(top10['State'], top10['Total_Sales'])\n",
    "    plt.title('Top 10 States by Sales')\n",
    "    plt.xlabel('State')\n",
    "    plt.ylabel('Total Sales')\n",
    "    plt.xticks(rotation=45)\n",
    "    plt.tight_layout()\n",
    "else:\n",
    "    print(\"No 'State' column found. If you have location data in another column, update the column name in the code.\")"
   ]
  },
  {
   "cell_type": "markdown",
   "id": "79683354",
   "metadata": {},
   "source": [
    "## 10) Groupwise Analysis\n",
    "Examples: Category wise, Sub-Category, Store, or Channel. Update column names if your data uses other labels."
   ]
  },
  {
   "cell_type": "code",
   "execution_count": null,
   "id": "65c0b658",
   "metadata": {},
   "outputs": [],
   "source": [
    "# 10) Groupwise analysis examples\n",
    "for col in ['Category','SubCategory','Store','Channel']:\n",
    "    if col in df.columns:\n",
    "        grp = df.groupby(col).agg(Total_Units=('Unit','sum'), Total_Sales=('Sales','sum')).reset_index().sort_values('Total_Sales', ascending=False)\n",
    "        print(f\"\\n--- Top 8 for {col} ---\")\n",
    "        display(grp.head(8))"
   ]
  },
  {
   "cell_type": "markdown",
   "id": "a9d75ca2",
   "metadata": {},
   "source": [
    "## 11) Timewise Analysis\n",
    "Examples: weekday vs weekend, day-of-week patterns, hourly patterns (if timestamp present)."
   ]
  },
  {
   "cell_type": "code",
   "execution_count": null,
   "id": "2e561abb",
   "metadata": {},
   "outputs": [],
   "source": [
    "# 11) Timewise analysis\n",
    "df['Weekday'] = df['Date'].dt.day_name()\n",
    "weekday_summary = df.groupby('Weekday').agg(Total_Units=('Unit','sum'), Total_Sales=('Sales','sum')).reindex(['Monday','Tuesday','Wednesday','Thursday','Friday','Saturday','Sunday'])\n",
    "display(weekday_summary)\n",
    "\n",
    "plt.figure()\n",
    "plt.plot(weekday_summary.index, weekday_summary['Total_Sales'], marker='o')\n",
    "plt.title('Sales by Day of Week')\n",
    "plt.xlabel('Day')\n",
    "plt.ylabel('Total Sales')\n",
    "plt.tight_layout()\n",
    "\n",
    "# If Time or Hour column exists, do hourly analysis\n",
    "if 'Time' in df.columns:\n",
    "    # try parse time column\n",
    "    try:\n",
    "        df['Time_parsed'] = pd.to_datetime(df['Time']).dt.time\n",
    "        df['Hour'] = pd.to_datetime(df['Time']).dt.hour\n",
    "    except Exception as e:\n",
    "        print('Could not parse Time column:', e)\n",
    "if 'Hour' in df.columns:\n",
    "    hour_summary = df.groupby('Hour').agg(Total_Sales=('Sales','sum'), Total_Units=('Unit','sum')).reset_index()\n",
    "    display(hour_summary)\n",
    "    plt.figure()\n",
    "    plt.plot(hour_summary['Hour'], hour_summary['Total_Sales'], marker='o')\n",
    "    plt.title('Sales by Hour of Day')\n",
    "    plt.xlabel('Hour')\n",
    "    plt.ylabel('Total Sales')\n",
    "    plt.tight_layout()"
   ]
  },
  {
   "cell_type": "markdown",
   "id": "5497d15a",
   "metadata": {},
   "source": [
    "## Conclusions & Recommendations\n",
    "Write data-driven findings here after running the notebook: inventory suggestions, top-performing states/categories, monthly seasonality, and anomalies. Include action items like marketing focus for low-performing categories or inventory rebalancing for high-demand states."
   ]
  }
 ],
 "metadata": {},
 "nbformat": 4,
 "nbformat_minor": 5
}
